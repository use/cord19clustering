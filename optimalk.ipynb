{
 "metadata": {
  "language_info": {
   "codemirror_mode": {
    "name": "ipython",
    "version": 3
   },
   "file_extension": ".py",
   "mimetype": "text/x-python",
   "name": "python",
   "nbconvert_exporter": "python",
   "pygments_lexer": "ipython3",
   "version": "3.8.6-final"
  },
  "orig_nbformat": 2,
  "kernelspec": {
   "name": "python3",
   "display_name": "Python 3.8.6 64-bit",
   "metadata": {
    "interpreter": {
     "hash": "55dc2ef33d481be31a5c00b42f248808e4edd8b163c72100e3df152a03ba29f1"
    }
   }
  }
 },
 "nbformat": 4,
 "nbformat_minor": 2,
 "cells": [
  {
   "cell_type": "code",
   "execution_count": 16,
   "metadata": {},
   "outputs": [],
   "source": [
    "import kmeans, library\n",
    "from matplotlib import pyplot\n",
    "import time"
   ]
  },
  {
   "cell_type": "code",
   "execution_count": 23,
   "metadata": {},
   "outputs": [
    {
     "output_type": "stream",
     "name": "stdout",
     "text": [
      "loaded 20 docs 2.16\nrecalc frequencies 0.01\n"
     ]
    }
   ],
   "source": [
    "t0 = time.time()\n",
    "pickle_dir = 'C:\\\\Users\\\\Colin\\\\Documents\\\\SCHOOL_STUFF\\\\EWU\\\\W21\\\\CSCD_530\\\\Project\\\\Code\\\\data_after_removing_words'\n",
    "\n",
    "t = time.time()\n",
    "num_docs = 20\n",
    "vocab, docs = library.load_project(pickle_dir, num_docs, random_files=True)\n",
    "print(f\"loaded {num_docs:,} docs {time.time()-t:.2f}\")\n",
    "\n",
    "t = time.time()\n",
    "sub_corpus_freqs = kmeans.sub_corpus_frequencies(docs)\n",
    "print(f\"recalc frequencies {time.time()-t:.2f}\")  "
   ]
  },
  {
   "source": [
    "# Elbow Method + Silhoette Method"
   ],
   "cell_type": "markdown",
   "metadata": {}
  },
  {
   "cell_type": "code",
   "execution_count": 18,
   "metadata": {},
   "outputs": [],
   "source": [
    "'''\n",
    "def get_WSSE(cluster_results):\n",
    "    wsse = 0\n",
    "    for i in range(len(cluster_results.clusters)):\n",
    "        for doc in cluster_results.clusters[i]:\n",
    "            wsse += kmeans.item_distance_dot_product(doc, cluster_results.centroids[i])**2\n",
    "    return wsse\n",
    "\n",
    "def get_silhouette(cluster_results):\n",
    "    # Using equations from\n",
    "    # https://en.wikipedia.org/wiki/Silhouette_%28clustering%29\n",
    "    silhouettes = []\n",
    "    for i in range(len(cluster_results.clusters)):\n",
    "        cluster_size = len(cluster_results.clusters[i])\n",
    "        if cluster_size == 1:\n",
    "            silhouettes.append(0)\n",
    "        else:\n",
    "            for j in range(len(cluster_results.clusters[i])):\n",
    "                doc1 = cluster_results.clusters[i][j]\n",
    "                # for each pair of documents in the cluster\n",
    "                for k in range(j+1, len(cluster_results.clusters[i])):\n",
    "                    doc2 = cluster_results.clusters[i][k]\n",
    "                    silhouettes.append(kmeans.item_distance_dot_product(doc1,doc2)\n",
    "    return mean(silhouettes)\n",
    "'''\n",
    "\n",
    "def cluster_metrics(cluster_results):\n",
    "    # Calculates Within Cluster Sum of Square Error (WSSE) to use for Elbow Method and Silhouette value\n",
    "    # Silhouette source:\n",
    "    # https://en.wikipedia.org/wiki/Silhouette_%28clustering%29\n",
    "    # TODO: Update distance metric to be 1/(dot product)\n",
    "    silhouettes = []\n",
    "    wsse = 0\n",
    "    for i in range(len(cluster_results.clusters)):\n",
    "        # Loop clusters\n",
    "        cluster_size = len(cluster_results.clusters[i])\n",
    "        if cluster_size == 1:\n",
    "            silhouettes.append(0)\n",
    "        else:\n",
    "            for j in range(len(cluster_results.clusters[i])):\n",
    "                # Loop documents in cluster    \n",
    "                docj = cluster_results.clusters[i][j]\n",
    "                wsse += kmeans.item_distance_dot_product(doc1, cluster_results.centroids[i])**2\n",
    "                docj_separation = []\n",
    "                docj_cohesion = []\n",
    "                for k in range(len(cluster_results.clusters)):\n",
    "                    # Loop clusters for each document to get min separation\n",
    "                    docj_separation.append(kmeans.item_distance_dot_product(docj, cluster_results.centroids[k]))\n",
    "                # For each pair of documents in the cluster\n",
    "                for k in range(j+1, len(cluster_results.clusters[i])):\n",
    "                    # Loop through remaining documents in cluster\n",
    "                    dock = cluster_results.clusters[i][k]\n",
    "                    docj_cohesion.append(kmeans.item_distance_dot_product(docj,dock))\n",
    "                docj_cohesion = (1/(cluster_size-1))*sum(docj_cohesion)\n",
    "                docj_separation.remove(min(docj_separation))\n",
    "                docj_separation = min(docj_cohesion)/cluster_size\n",
    "                silhouettes.append((docj_separation-docj_cohesion)/max(docj_cohesion,docj_separation))\n",
    "    return wsse, mean(silhouettes)"
   ]
  },
  {
   "cell_type": "code",
   "execution_count": 22,
   "metadata": {},
   "outputs": [
    {
     "output_type": "error",
     "ename": "IndexError",
     "evalue": "list index out of range",
     "traceback": [
      "\u001b[1;31m---------------------------------------------------------------------------\u001b[0m",
      "\u001b[1;31mIndexError\u001b[0m                                Traceback (most recent call last)",
      "\u001b[1;32m<ipython-input-22-802b46c1c730>\u001b[0m in \u001b[0;36m<module>\u001b[1;34m\u001b[0m\n\u001b[0;32m      6\u001b[0m \u001b[1;32mfor\u001b[0m \u001b[0mk\u001b[0m \u001b[1;32min\u001b[0m \u001b[0mrange\u001b[0m\u001b[1;33m(\u001b[0m\u001b[0mkmax\u001b[0m\u001b[1;33m)\u001b[0m\u001b[1;33m:\u001b[0m\u001b[1;33m\u001b[0m\u001b[1;33m\u001b[0m\u001b[0m\n\u001b[0;32m      7\u001b[0m     \u001b[0mK\u001b[0m\u001b[1;33m.\u001b[0m\u001b[0mappend\u001b[0m\u001b[1;33m(\u001b[0m\u001b[0mk\u001b[0m\u001b[1;33m)\u001b[0m\u001b[1;33m\u001b[0m\u001b[1;33m\u001b[0m\u001b[0m\n\u001b[1;32m----> 8\u001b[1;33m     \u001b[0mresults\u001b[0m \u001b[1;33m=\u001b[0m \u001b[0mkmeans\u001b[0m\u001b[1;33m.\u001b[0m\u001b[0mfind_clusters\u001b[0m\u001b[1;33m(\u001b[0m\u001b[0mdocs\u001b[0m\u001b[1;33m,\u001b[0m \u001b[0mk\u001b[0m\u001b[1;33m)\u001b[0m\u001b[1;33m\u001b[0m\u001b[1;33m\u001b[0m\u001b[0m\n\u001b[0m\u001b[0;32m      9\u001b[0m     \u001b[0mwsse\u001b[0m\u001b[1;33m,\u001b[0m \u001b[0msilhouette\u001b[0m \u001b[1;33m=\u001b[0m \u001b[0mcluster_metrics\u001b[0m\u001b[1;33m(\u001b[0m\u001b[0mresults\u001b[0m\u001b[1;33m)\u001b[0m\u001b[1;33m\u001b[0m\u001b[1;33m\u001b[0m\u001b[0m\n\u001b[0;32m     10\u001b[0m     \u001b[0mWSSE\u001b[0m\u001b[1;33m.\u001b[0m\u001b[0mappend\u001b[0m\u001b[1;33m(\u001b[0m\u001b[0mwsse\u001b[0m\u001b[1;33m)\u001b[0m\u001b[1;33m\u001b[0m\u001b[1;33m\u001b[0m\u001b[0m\n",
      "\u001b[1;32mc:\\Users\\Colin\\Documents\\GitHub\\cord19clustering\\kmeans.py\u001b[0m in \u001b[0;36mfind_clusters\u001b[1;34m(items, k)\u001b[0m\n\u001b[0;32m    101\u001b[0m                     \u001b[0mstreak\u001b[0m \u001b[1;33m=\u001b[0m \u001b[1;36m0\u001b[0m\u001b[1;33m\u001b[0m\u001b[1;33m\u001b[0m\u001b[0m\n\u001b[0;32m    102\u001b[0m                 \u001b[0mitem_meta\u001b[0m\u001b[1;33m[\u001b[0m\u001b[0mitem_index\u001b[0m\u001b[1;33m]\u001b[0m \u001b[1;33m=\u001b[0m \u001b[1;33m(\u001b[0m\u001b[0mselected_index\u001b[0m\u001b[1;33m,\u001b[0m \u001b[0mstreak\u001b[0m\u001b[1;33m)\u001b[0m\u001b[1;33m\u001b[0m\u001b[1;33m\u001b[0m\u001b[0m\n\u001b[1;32m--> 103\u001b[1;33m             \u001b[0mnew_clusters\u001b[0m\u001b[1;33m[\u001b[0m\u001b[0mselected_index\u001b[0m\u001b[1;33m]\u001b[0m\u001b[1;33m.\u001b[0m\u001b[0mappend\u001b[0m\u001b[1;33m(\u001b[0m\u001b[0mitem\u001b[0m\u001b[1;33m)\u001b[0m\u001b[1;33m\u001b[0m\u001b[1;33m\u001b[0m\u001b[0m\n\u001b[0m\u001b[0;32m    104\u001b[0m         \u001b[0mtimings\u001b[0m\u001b[1;33m[\u001b[0m\u001b[1;34m'assign'\u001b[0m\u001b[1;33m]\u001b[0m \u001b[1;33m+=\u001b[0m \u001b[0mtime\u001b[0m\u001b[1;33m.\u001b[0m\u001b[0mtime\u001b[0m\u001b[1;33m(\u001b[0m\u001b[1;33m)\u001b[0m \u001b[1;33m-\u001b[0m \u001b[0mt\u001b[0m\u001b[1;33m\u001b[0m\u001b[1;33m\u001b[0m\u001b[0m\n\u001b[0;32m    105\u001b[0m \u001b[1;33m\u001b[0m\u001b[0m\n",
      "\u001b[1;31mIndexError\u001b[0m: list index out of range"
     ]
    }
   ],
   "source": [
    "kmax = 9\n",
    "K = []\n",
    "WSSE = []\n",
    "silhouettes = []\n",
    "\n",
    "for k in range(kmax):\n",
    "    K.append(k)\n",
    "    results = kmeans.find_clusters(docs, k)\n",
    "    wsse, silhouette = cluster_metrics(results)\n",
    "    WSSE.append(wsse)\n",
    "    silhouettes.append(wsse)"
   ]
  },
  {
   "cell_type": "code",
   "execution_count": null,
   "metadata": {},
   "outputs": [],
   "source": []
  }
 ]
}