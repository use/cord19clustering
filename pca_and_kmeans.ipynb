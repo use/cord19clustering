{
 "metadata": {
  "language_info": {
   "codemirror_mode": {
    "name": "ipython",
    "version": 3
   },
   "file_extension": ".py",
   "mimetype": "text/x-python",
   "name": "python",
   "nbconvert_exporter": "python",
   "pygments_lexer": "ipython3",
   "version": "3.8.6"
  },
  "orig_nbformat": 2,
  "kernelspec": {
   "name": "python3",
   "display_name": "Python 3.8.6 64-bit",
   "metadata": {
    "interpreter": {
     "hash": "f2051a6b340e4ce0518b870842f9de2c3e9a61624bd4ec776f07f45cdffc6840"
    }
   }
  }
 },
 "nbformat": 4,
 "nbformat_minor": 2,
 "cells": [
  {
   "source": [
    "# Imports"
   ],
   "cell_type": "markdown",
   "metadata": {}
  },
  {
   "cell_type": "code",
   "execution_count": 37,
   "metadata": {},
   "outputs": [],
   "source": [
    "import pandas\n",
    "import numpy\n",
    "from sklearn.decomposition import PCA\n",
    "from sklearn.cluster import KMeans\n",
    "\n",
    "from library import load_project, top_group_words"
   ]
  },
  {
   "cell_type": "code",
   "execution_count": 2,
   "metadata": {},
   "outputs": [],
   "source": [
    "num_docs = 10\n",
    "path = 'C:\\\\Users\\\\Colin\\\\Documents\\\\SCHOOL_STUFF\\\\EWU\\\\W21\\\\CSCD_530\\\\Project\\\\Code\\\\data_after_removing_words'\n",
    "vocabulary, corpus = load_project(path, num_docs)"
   ]
  },
  {
   "source": [
    "# Current Data Structures\n",
    "vocabulary: {  \n",
    "    'index': {  \n",
    "        word: word_id  \n",
    "    },  \n",
    "    'words': {  \n",
    "        word_id: (word, corpus_freq)  \n",
    "    }  \n",
    "}  \n",
    "  \n",
    "doc: \\[  \n",
    "    doc_file_name,  \n",
    "    {  \n",
    "        word_id: doc_freq,  \n",
    "    },  \n",
    "    max_freq,  \n",
    "\\]"
   ],
   "cell_type": "markdown",
   "metadata": {}
  },
  {
   "cell_type": "code",
   "execution_count": 29,
   "metadata": {},
   "outputs": [],
   "source": [
    "%%time\n",
    "vocabulary_df = pandas.Series(index=numpy.arange(0, len(vocabulary['words']), 1))\n",
    "\n",
    "for word_id in list(vocabulary['words'].keys())[:10]:\n",
    "    vocabulary_df[word_id] = vocabulary['words'][word_id][0]"
   ]
  },
  {
   "cell_type": "code",
   "execution_count": 30,
   "metadata": {},
   "outputs": [
    {
     "output_type": "execute_result",
     "data": {
      "text/plain": [
       "0    according\n",
       "1      current\n",
       "2         live\n",
       "3    statistic\n",
       "4         time\n",
       "dtype: object"
      ]
     },
     "metadata": {},
     "execution_count": 30
    }
   ],
   "source": [
    "vocabulary_df.head()"
   ]
  },
  {
   "cell_type": "code",
   "execution_count": 35,
   "metadata": {},
   "outputs": [],
   "source": [
    "corpus_df = pandas.DataFrame(index=numpy.arange(0, len(vocabulary['words']), 1))\n",
    "\n",
    "for doc in corpus[:5]:\n",
    "    doc_series = pandas.Series(index=numpy.arange(0, len(vocabulary['words']), 1))\n",
    "    doc_name = doc[0]\n",
    "    for word_id in list(doc[1].keys()):\n",
    "        doc_series[word_id] = doc[1][word_id]\n",
    "    corpus_df[doc_name] = doc_series\n",
    "\n",
    "# Save a copy of the corpus\n",
    "corpus_df_save = corpus_df.copy()"
   ]
  },
  {
   "cell_type": "code",
   "execution_count": 36,
   "metadata": {},
   "outputs": [
    {
     "output_type": "execute_result",
     "data": {
      "text/plain": [
       "   0000028b5cc154f68b8a269f6578f21e31f62977.json  \\\n",
       "0                                       0.095797   \n",
       "1                                       0.094585   \n",
       "2                                       0.253062   \n",
       "3                                       0.245117   \n",
       "4                                       0.056415   \n",
       "\n",
       "   00006903b396d50cc0037fed39916d57d50ee801.json  \\\n",
       "0                                       0.010753   \n",
       "1                                       0.021233   \n",
       "2                                            NaN   \n",
       "3                                       0.027513   \n",
       "4                                       0.003166   \n",
       "\n",
       "   0001418189999fea7f7cbe3e82703d71c85a6fe5.json  \\\n",
       "0                                       0.015728   \n",
       "1                                            NaN   \n",
       "2                                       0.041547   \n",
       "3                                            NaN   \n",
       "4                                       0.004631   \n",
       "\n",
       "   00031cc15aafa30b187ed2cd3790e970e5046895.json  \\\n",
       "0                                       0.031932   \n",
       "1                                       0.063057   \n",
       "2                                            NaN   \n",
       "3                                            NaN   \n",
       "4                                       0.009402   \n",
       "\n",
       "   00033d5a12240a8684cfe943954132b43434cf48.json  \n",
       "0                                       0.135971  \n",
       "1                                       0.067125  \n",
       "2                                            NaN  \n",
       "3                                       0.086977  \n",
       "4                                       0.040036  "
      ],
      "text/html": "<div>\n<style scoped>\n    .dataframe tbody tr th:only-of-type {\n        vertical-align: middle;\n    }\n\n    .dataframe tbody tr th {\n        vertical-align: top;\n    }\n\n    .dataframe thead th {\n        text-align: right;\n    }\n</style>\n<table border=\"1\" class=\"dataframe\">\n  <thead>\n    <tr style=\"text-align: right;\">\n      <th></th>\n      <th>0000028b5cc154f68b8a269f6578f21e31f62977.json</th>\n      <th>00006903b396d50cc0037fed39916d57d50ee801.json</th>\n      <th>0001418189999fea7f7cbe3e82703d71c85a6fe5.json</th>\n      <th>00031cc15aafa30b187ed2cd3790e970e5046895.json</th>\n      <th>00033d5a12240a8684cfe943954132b43434cf48.json</th>\n    </tr>\n  </thead>\n  <tbody>\n    <tr>\n      <th>0</th>\n      <td>0.095797</td>\n      <td>0.010753</td>\n      <td>0.015728</td>\n      <td>0.031932</td>\n      <td>0.135971</td>\n    </tr>\n    <tr>\n      <th>1</th>\n      <td>0.094585</td>\n      <td>0.021233</td>\n      <td>NaN</td>\n      <td>0.063057</td>\n      <td>0.067125</td>\n    </tr>\n    <tr>\n      <th>2</th>\n      <td>0.253062</td>\n      <td>NaN</td>\n      <td>0.041547</td>\n      <td>NaN</td>\n      <td>NaN</td>\n    </tr>\n    <tr>\n      <th>3</th>\n      <td>0.245117</td>\n      <td>0.027513</td>\n      <td>NaN</td>\n      <td>NaN</td>\n      <td>0.086977</td>\n    </tr>\n    <tr>\n      <th>4</th>\n      <td>0.056415</td>\n      <td>0.003166</td>\n      <td>0.004631</td>\n      <td>0.009402</td>\n      <td>0.040036</td>\n    </tr>\n  </tbody>\n</table>\n</div>"
     },
     "metadata": {},
     "execution_count": 36
    }
   ],
   "source": [
    "corpus_df.head()"
   ]
  },
  {
   "cell_type": "code",
   "execution_count": 41,
   "metadata": {},
   "outputs": [
    {
     "output_type": "execute_result",
     "data": {
      "text/plain": [
       "974362"
      ]
     },
     "metadata": {},
     "execution_count": 41
    }
   ],
   "source": [
    "len(corpus_df)"
   ]
  },
  {
   "source": [
    "# Dimensionality Reduction"
   ],
   "cell_type": "markdown",
   "metadata": {}
  },
  {
   "cell_type": "code",
   "execution_count": 43,
   "metadata": {},
   "outputs": [],
   "source": [
    "# Replace NaN with 0's\n",
    "corpus_df.replace(to_replace=numpy.nan, value=0, inplace=True)"
   ]
  },
  {
   "cell_type": "code",
   "execution_count": 47,
   "metadata": {},
   "outputs": [
    {
     "output_type": "execute_result",
     "data": {
      "text/plain": [
       "(974362, 5)"
      ]
     },
     "metadata": {},
     "execution_count": 47
    }
   ],
   "source": [
    "# Principal Component Analysis\n",
    "pca = PCA(n_components=0.95, random_state=42)\n",
    "corpus_reduced= pca.fit_transform(corpus_df)\n",
    "corpus_reduced.shape"
   ]
  },
  {
   "cell_type": "code",
   "execution_count": null,
   "metadata": {},
   "outputs": [],
   "source": []
  }
 ]
}